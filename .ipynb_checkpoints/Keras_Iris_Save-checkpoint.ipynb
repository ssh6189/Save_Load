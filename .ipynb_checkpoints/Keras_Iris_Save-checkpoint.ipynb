{
 "cells": [
  {
   "cell_type": "code",
   "execution_count": 1,
   "metadata": {},
   "outputs": [
    {
     "name": "stderr",
     "output_type": "stream",
     "text": [
      "Using TensorFlow backend.\n"
     ]
    }
   ],
   "source": [
    "from sklearn import datasets\n",
    "import keras\n",
    "from keras.models import Sequential\n",
    "from keras.layers import Dense, Dropout\n",
    "from keras.utils.np_utils import to_categorical"
   ]
  },
  {
   "cell_type": "code",
   "execution_count": 2,
   "metadata": {},
   "outputs": [],
   "source": [
    "#붓꽃 데이터 읽어 들이기\n",
    "iris = datasets.load_iris()\n",
    "in_size = 4\n",
    "nb_classes = 3\n",
    "\n",
    "#레이블 데이터를 One-hot 벡터로 변환하기\n",
    "x = iris.data\n",
    "y = to_categorical(iris.target, nb_classes)"
   ]
  },
  {
   "cell_type": "code",
   "execution_count": 3,
   "metadata": {},
   "outputs": [
    {
     "name": "stdout",
     "output_type": "stream",
     "text": [
      "WARNING:tensorflow:From C:\\Users\\user\\anaconda\\envs\\test\\lib\\site-packages\\tensorflow_core\\python\\ops\\resource_variable_ops.py:1630: calling BaseResourceVariable.__init__ (from tensorflow.python.ops.resource_variable_ops) with constraint is deprecated and will be removed in a future version.\n",
      "Instructions for updating:\n",
      "If using Keras pass *_constraint arguments to layers.\n"
     ]
    }
   ],
   "source": [
    "#모델 정의하기\n",
    "model = Sequential()\n",
    "model.add(Dense(512, activation = 'relu', input_shape = (in_size, )))\n",
    "model.add(Dense(512, activation = 'relu'))\n",
    "model.add(Dropout(0.2))\n",
    "model.add(Dense(nb_classes, activation = 'softmax'))"
   ]
  },
  {
   "cell_type": "code",
   "execution_count": 4,
   "metadata": {},
   "outputs": [],
   "source": [
    "#컴파일하기\n",
    "model.compile(\n",
    "loss = 'categorical_crossentropy',\n",
    "optimizer = 'adam',\n",
    "metrics = ['accuracy'])"
   ]
  },
  {
   "cell_type": "code",
   "execution_count": 5,
   "metadata": {},
   "outputs": [
    {
     "name": "stdout",
     "output_type": "stream",
     "text": [
      "WARNING:tensorflow:From C:\\Users\\user\\anaconda\\envs\\test\\lib\\site-packages\\keras\\backend\\tensorflow_backend.py:422: The name tf.global_variables is deprecated. Please use tf.compat.v1.global_variables instead.\n",
      "\n",
      "Epoch 1/50\n",
      "150/150 [==============================] - 1s 10ms/step - loss: 0.9079 - accuracy: 0.5400\n",
      "Epoch 2/50\n",
      "150/150 [==============================] - 0s 533us/step - loss: 0.5057 - accuracy: 0.8067\n",
      "Epoch 3/50\n",
      "150/150 [==============================] - 0s 507us/step - loss: 0.3543 - accuracy: 0.9133\n",
      "Epoch 4/50\n",
      "150/150 [==============================] - 0s 513us/step - loss: 0.2773 - accuracy: 0.9400\n",
      "Epoch 5/50\n",
      "150/150 [==============================] - 0s 433us/step - loss: 0.2313 - accuracy: 0.9333\n",
      "Epoch 6/50\n",
      "150/150 [==============================] - 0s 557us/step - loss: 0.2063 - accuracy: 0.9200\n",
      "Epoch 7/50\n",
      "150/150 [==============================] - 0s 500us/step - loss: 0.1740 - accuracy: 0.9533\n",
      "Epoch 8/50\n",
      "150/150 [==============================] - 0s 507us/step - loss: 0.1351 - accuracy: 0.9800\n",
      "Epoch 9/50\n",
      "150/150 [==============================] - 0s 487us/step - loss: 0.1306 - accuracy: 0.9600\n",
      "Epoch 10/50\n",
      "150/150 [==============================] - 0s 513us/step - loss: 0.1595 - accuracy: 0.9333\n",
      "Epoch 11/50\n",
      "150/150 [==============================] - 0s 567us/step - loss: 0.1307 - accuracy: 0.9533\n",
      "Epoch 12/50\n",
      "150/150 [==============================] - 0s 593us/step - loss: 0.0947 - accuracy: 0.9800\n",
      "Epoch 13/50\n",
      "150/150 [==============================] - 0s 533us/step - loss: 0.1118 - accuracy: 0.9667\n",
      "Epoch 14/50\n",
      "150/150 [==============================] - 0s 687us/step - loss: 0.0984 - accuracy: 0.9733\n",
      "Epoch 15/50\n",
      "150/150 [==============================] - 0s 560us/step - loss: 0.1004 - accuracy: 0.9667\n",
      "Epoch 16/50\n",
      "150/150 [==============================] - 0s 507us/step - loss: 0.1061 - accuracy: 0.9667\n",
      "Epoch 17/50\n",
      "150/150 [==============================] - 0s 513us/step - loss: 0.0983 - accuracy: 0.9600\n",
      "Epoch 18/50\n",
      "150/150 [==============================] - 0s 513us/step - loss: 0.0755 - accuracy: 0.9800\n",
      "Epoch 19/50\n",
      "150/150 [==============================] - 0s 540us/step - loss: 0.0965 - accuracy: 0.9667\n",
      "Epoch 20/50\n",
      "150/150 [==============================] - 0s 500us/step - loss: 0.0744 - accuracy: 0.9733\n",
      "Epoch 21/50\n",
      "150/150 [==============================] - 0s 533us/step - loss: 0.0878 - accuracy: 0.9800\n",
      "Epoch 22/50\n",
      "150/150 [==============================] - 0s 527us/step - loss: 0.0883 - accuracy: 0.9667\n",
      "Epoch 23/50\n",
      "150/150 [==============================] - 0s 640us/step - loss: 0.0848 - accuracy: 0.9600\n",
      "Epoch 24/50\n",
      "150/150 [==============================] - 0s 567us/step - loss: 0.1219 - accuracy: 0.9400\n",
      "Epoch 25/50\n",
      "150/150 [==============================] - 0s 533us/step - loss: 0.2051 - accuracy: 0.9133\n",
      "Epoch 26/50\n",
      "150/150 [==============================] - 0s 547us/step - loss: 0.1256 - accuracy: 0.9333\n",
      "Epoch 27/50\n",
      "150/150 [==============================] - 0s 567us/step - loss: 0.1149 - accuracy: 0.9467\n",
      "Epoch 28/50\n",
      "150/150 [==============================] - 0s 547us/step - loss: 0.0747 - accuracy: 0.9600\n",
      "Epoch 29/50\n",
      "150/150 [==============================] - 0s 580us/step - loss: 0.0838 - accuracy: 0.9667\n",
      "Epoch 30/50\n",
      "150/150 [==============================] - 0s 593us/step - loss: 0.1004 - accuracy: 0.9533\n",
      "Epoch 31/50\n",
      "150/150 [==============================] - 0s 520us/step - loss: 0.1028 - accuracy: 0.9600\n",
      "Epoch 32/50\n",
      "150/150 [==============================] - 0s 733us/step - loss: 0.0706 - accuracy: 0.9733\n",
      "Epoch 33/50\n",
      "150/150 [==============================] - 0s 613us/step - loss: 0.0645 - accuracy: 0.9800\n",
      "Epoch 34/50\n",
      "150/150 [==============================] - 0s 560us/step - loss: 0.0783 - accuracy: 0.9600\n",
      "Epoch 35/50\n",
      "150/150 [==============================] - 0s 513us/step - loss: 0.0778 - accuracy: 0.9533\n",
      "Epoch 36/50\n",
      "150/150 [==============================] - 0s 520us/step - loss: 0.0776 - accuracy: 0.9733\n",
      "Epoch 37/50\n",
      "150/150 [==============================] - 0s 507us/step - loss: 0.0638 - accuracy: 0.9800\n",
      "Epoch 38/50\n",
      "150/150 [==============================] - 0s 533us/step - loss: 0.0801 - accuracy: 0.9733\n",
      "Epoch 39/50\n",
      "150/150 [==============================] - 0s 533us/step - loss: 0.0811 - accuracy: 0.9667\n",
      "Epoch 40/50\n",
      "150/150 [==============================] - 0s 533us/step - loss: 0.0754 - accuracy: 0.9733\n",
      "Epoch 41/50\n",
      "150/150 [==============================] - 0s 500us/step - loss: 0.1032 - accuracy: 0.9667\n",
      "Epoch 42/50\n",
      "150/150 [==============================] - 0s 493us/step - loss: 0.0802 - accuracy: 0.9600\n",
      "Epoch 43/50\n",
      "150/150 [==============================] - 0s 507us/step - loss: 0.0852 - accuracy: 0.9533\n",
      "Epoch 44/50\n",
      "150/150 [==============================] - 0s 527us/step - loss: 0.1495 - accuracy: 0.9467\n",
      "Epoch 45/50\n",
      "150/150 [==============================] - 0s 520us/step - loss: 0.0773 - accuracy: 0.9667\n",
      "Epoch 46/50\n",
      "150/150 [==============================] - 0s 627us/step - loss: 0.0556 - accuracy: 0.9667\n",
      "Epoch 47/50\n",
      "150/150 [==============================] - 0s 593us/step - loss: 0.0681 - accuracy: 0.9733\n",
      "Epoch 48/50\n",
      "150/150 [==============================] - 0s 573us/step - loss: 0.0678 - accuracy: 0.9867\n",
      "Epoch 49/50\n",
      "150/150 [==============================] - 0s 527us/step - loss: 0.0691 - accuracy: 0.9733\n",
      "Epoch 50/50\n",
      "150/150 [==============================] - 0s 613us/step - loss: 0.0762 - accuracy: 0.9800\n"
     ]
    },
    {
     "data": {
      "text/plain": [
       "<keras.callbacks.callbacks.History at 0x116b4488>"
      ]
     },
     "execution_count": 5,
     "metadata": {},
     "output_type": "execute_result"
    }
   ],
   "source": [
    "#학습 실행하기\n",
    "model.fit(x, y, batch_size = 20, epochs = 50)"
   ]
  },
  {
   "cell_type": "code",
   "execution_count": 6,
   "metadata": {},
   "outputs": [],
   "source": [
    "#모델 저장하기\n",
    "model.save('iris_model.h5')"
   ]
  },
  {
   "cell_type": "code",
   "execution_count": 7,
   "metadata": {},
   "outputs": [],
   "source": [
    "#학습한 가중치 데이터 저장하기\n",
    "model.save_weights('iris_weight.h5')"
   ]
  }
 ],
 "metadata": {
  "kernelspec": {
   "display_name": "Python 3",
   "language": "python",
   "name": "python3"
  },
  "language_info": {
   "codemirror_mode": {
    "name": "ipython",
    "version": 3
   },
   "file_extension": ".py",
   "mimetype": "text/x-python",
   "name": "python",
   "nbconvert_exporter": "python",
   "pygments_lexer": "ipython3",
   "version": "3.7.7"
  }
 },
 "nbformat": 4,
 "nbformat_minor": 4
}
